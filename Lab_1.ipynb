{
 "cells": [
  {
   "cell_type": "markdown",
   "id": "4b7fa4c9",
   "metadata": {},
   "source": [
    "## **Difference Between integer and float in Python**\n",
    "In python, integers (int) are whole numbers, either positive, negative, or zero, without a fractional part. Floats (float) are numbers with a fractional part."
   ]
  },
  {
   "cell_type": "code",
   "execution_count": 4,
   "id": "6552d0ea",
   "metadata": {},
   "outputs": [],
   "source": [
    "# Example of integer:\n",
    "number = 7 \n",
    "\n",
    "# Example of float:\n",
    "height = 5.4 "
   ]
  },
  {
   "cell_type": "markdown",
   "id": "939b0f4b",
   "metadata": {},
   "source": [
    "## Declaring a string variable and string operation:\n",
    "In python, you can declare a string variable using single quotes or double quotes. "
   ]
  },
  {
   "cell_type": "code",
   "execution_count": 5,
   "id": "b9d94b7b",
   "metadata": {},
   "outputs": [
    {
     "name": "stdout",
     "output_type": "stream",
     "text": [
      "Assalam o Alaikum, Muhammad Qasim!\n"
     ]
    }
   ],
   "source": [
    "# String variable \n",
    "name = \"Muhammad Qasim\"\n",
    "\n",
    "# String operation\n",
    "greeting = \"Assalam o Alaikum, \" + name + \"!\"\n",
    "print(greeting)"
   ]
  },
  {
   "cell_type": "markdown",
   "id": "07a4e0bc",
   "metadata": {},
   "source": [
    "## List in Python \n",
    "A list in python is a colleciton of item that can be of any data type, including string, integers, floats, and other lists. You can access elements in a list using indexing, and modify elements using assignment."
   ]
  },
  {
   "cell_type": "code",
   "execution_count": null,
   "id": "efa6d389",
   "metadata": {},
   "outputs": [
    {
     "name": "stdout",
     "output_type": "stream",
     "text": [
      "date\n"
     ]
    }
   ],
   "source": [
    "# The declaration of a list \n",
    "fruits = [\"apple\", \"banana\", \"cherry\", \"date\", \"watermelon\"]\n",
    "\n",
    "# Accessing elements in a list\n",
    "print(fruits[3])\n",
    "\n",
    "# Modifying elements in a list\n",
    "printfruits[2] = \"orange\"\n"
   ]
  },
  {
   "cell_type": "markdown",
   "id": "a25a358e",
   "metadata": {},
   "source": [
    "## Difference between tuple and list:\n",
    "A tuple is an immutable collection of items, whereas a list is mutable. Tuple are defined using parentheses, while lists are defined using squre brackets."
   ]
  },
  {
   "cell_type": "code",
   "execution_count": null,
   "id": "89559c48",
   "metadata": {},
   "outputs": [],
   "source": [
    "# Example of tuple (immutalbe)\n",
    "my_ tuple = (\"red\", \"greeen\", \"blue\")\n",
    "\n",
    "# Example of list (mutable)\n",
    "my_list_num = [1, 2, 3, 4, 5]\n"
   ]
  },
  {
   "cell_type": "markdown",
   "id": "9dcc304c",
   "metadata": {},
   "source": [
    "## Creating and accessing elements in a dictionary:\n",
    "A dictionary is a colleciton of key-value pairs. You can create a dictionary using the {} syntax, and access elements using their keys.\n"
   ]
  },
  {
   "cell_type": "code",
   "execution_count": null,
   "id": "1a5d2e2e",
   "metadata": {},
   "outputs": [],
   "source": [
    "# creating and accessing elements in a dictionary:\n",
    "my_dict = {\n",
    "    \"name\" : \"Muhammad Qasim\",\n",
    "    \"age\" : 21,\n",
    "    \"city\" : \"Mardan\"\n",
    "    \"hobbies\" : [\"reading\", \"coding\", \"Pyhsical_fitness\"]\n",
    "    \"is_student\" : True\n",
    "    \n",
    "}\n",
    "\n",
    "# Accessing elements in a dictionary\n",
    "print(my_dict[\"age\"])\n",
    "print(my_dict[\"name\"])"
   ]
  },
  {
   "cell_type": "markdown",
   "id": "ab7c0759",
   "metadata": {},
   "source": [
    "## Type casting in Python:\n",
    "Type casting is the process of converting one data type to another. Python supports implicit and explicit type casting."
   ]
  },
  {
   "cell_type": "code",
   "execution_count": null,
   "id": "c6fd05a1",
   "metadata": {},
   "outputs": [],
   "source": [
    "# Implicit type casting\n",
    "num_1 = int(input(\"Enter an integer: \"))\n",
    "\n",
    "num_2 = int(input(\"Enter a float number: \"))\n",
    "\n",
    "result = num_1 + num_2\n",
    "print(f\"The sum of {num_1} and {num_2} is: {result}\")\n",
    "\n",
    "# Converting a string to an integer\n",
    "str_num = \"5\"\n",
    "int_num = int(str_num)\n",
    "print(type(int_num))"
   ]
  },
  {
   "cell_type": "markdown",
   "id": "9488406a",
   "metadata": {},
   "source": [
    "## Coonverting string to interger and performing arithmetic operations:\n"
   ]
  },
  {
   "cell_type": "code",
   "execution_count": null,
   "id": "4136bdc9",
   "metadata": {},
   "outputs": [],
   "source": [
    "num_1_str = \"7\"\n",
    "num_2_int = int(x)\n",
    "\n",
    "result = num_1_str + num_2_int  # Converts string to integer and performing addition\n",
    "\n",
    "print(f\"The sum of {num_1_str} and {num_2_int} is: {result}\")\n"
   ]
  },
  {
   "cell_type": "markdown",
   "id": "6d306c99",
   "metadata": {},
   "source": [
    "## Concatenating strings:\n",
    "you can concatenate string using the + operator.\n"
   ]
  },
  {
   "cell_type": "code",
   "execution_count": null,
   "id": "7b240703",
   "metadata": {},
   "outputs": [],
   "source": [
    "name = input(\"Enter your name: \")\n",
    "Greeting = \"Assalam 0 Alaikum, \" + name + \"!\"\n",
    "print(Greeting)"
   ]
  },
  {
   "cell_type": "markdown",
   "id": "161d4e9d",
   "metadata": {},
   "source": [
    "## Indexing in Python lists and strings:\n",
    "Indexing allows you to access specific elements in a list or string. You can use positive or negative indices."
   ]
  },
  {
   "cell_type": "code",
   "execution_count": null,
   "id": "1682ff63",
   "metadata": {},
   "outputs": [],
   "source": [
    "# Indexing in python \n",
    "fruits = [\"apple\", \"banana\", \"cherry\", \"date\", \"watermelon\"]\n",
    "print(fruits[0])    # accessing first element\n",
    "print(fruits[-1])   # accessing last element"
   ]
  },
  {
   "cell_type": "markdown",
   "id": "75a96e6c",
   "metadata": {},
   "source": [
    "## Creating a dictionary with student names and ages:\n"
   ]
  },
  {
   "cell_type": "code",
   "execution_count": null,
   "id": "3d1e7f2b",
   "metadata": {},
   "outputs": [],
   "source": [
    "students = {\n",
    "    \"Muhammad Qasim\": 21,\n",
    "    \"Ali\": 22,\n",
    "    \"Hafiz\" : 20,\n",
    "    \"Shahab\": 17,\n",
    "\n",
    "# Accessing a student's age\n",
    "print(students[\"Ali\"])"
   ]
  }
 ],
 "metadata": {
  "kernelspec": {
   "display_name": "ai_env",
   "language": "python",
   "name": "python3"
  },
  "language_info": {
   "codemirror_mode": {
    "name": "ipython",
    "version": 3
   },
   "file_extension": ".py",
   "mimetype": "text/x-python",
   "name": "python",
   "nbconvert_exporter": "python",
   "pygments_lexer": "ipython3",
   "version": "3.9.23"
  }
 },
 "nbformat": 4,
 "nbformat_minor": 5
}
