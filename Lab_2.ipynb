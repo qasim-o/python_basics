{
 "cells": [
  {
   "cell_type": "code",
   "execution_count": 1,
   "id": "f1e6fc8c",
   "metadata": {},
   "outputs": [
    {
     "name": "stdout",
     "output_type": "stream",
     "text": [
      "Initial value of num:  5\n"
     ]
    }
   ],
   "source": [
    "# Assignment Operator \n",
    "num = 5\n",
    "print(\"Initial value of num: \", num)"
   ]
  },
  {
   "cell_type": "code",
   "execution_count": 2,
   "id": "937d1451",
   "metadata": {},
   "outputs": [
    {
     "name": "stdout",
     "output_type": "stream",
     "text": [
      "Value of num after += 3:  8\n"
     ]
    }
   ],
   "source": [
    "num += 3\n",
    "print(\"Value of num after += 3: \", num)"
   ]
  },
  {
   "cell_type": "code",
   "execution_count": 4,
   "id": "7cdeda61",
   "metadata": {},
   "outputs": [
    {
     "name": "stdout",
     "output_type": "stream",
     "text": [
      "6\n",
      "Value of num once again:  4\n"
     ]
    }
   ],
   "source": [
    "print(num)\n",
    "num -= 2\n",
    "print(\"Value of num once again: \", num)"
   ]
  },
  {
   "cell_type": "code",
   "execution_count": 6,
   "id": "9b5e90e2",
   "metadata": {},
   "outputs": [
    {
     "name": "stdout",
     "output_type": "stream",
     "text": [
      "Value of num after *= 3:  36\n"
     ]
    }
   ],
   "source": [
    "num *= 3\n",
    "print(\"Value of num after *= 3: \", num)"
   ]
  },
  {
   "cell_type": "code",
   "execution_count": 12,
   "id": "c59648a2",
   "metadata": {},
   "outputs": [
    {
     "name": "stdout",
     "output_type": "stream",
     "text": [
      "True\n"
     ]
    }
   ],
   "source": [
    "# identity operations\n",
    "list1 = [1, 2, 3, 4]    \n",
    "list2 = [1, 2, 3, 4]\n",
    "\n",
    "print(list1 == list2)"
   ]
  },
  {
   "cell_type": "code",
   "execution_count": null,
   "id": "e202cc2a",
   "metadata": {},
   "outputs": [
    {
     "name": "stdout",
     "output_type": "stream",
     "text": [
      "False\n"
     ]
    }
   ],
   "source": [
    "# identity operators\n",
    "list_1 = [1, 2, 3, ]\n",
    "list_2 = [1, 2, 3, 4 ]\n",
    "\n",
    "print(list_1 is list_2)     # you can is as a  double equal sign =="
   ]
  },
  {
   "cell_type": "code",
   "execution_count": 14,
   "id": "2b9ba26b",
   "metadata": {},
   "outputs": [
    {
     "name": "stdout",
     "output_type": "stream",
     "text": [
      "['apple', 'graps', 'orange']\n"
     ]
    }
   ],
   "source": [
    "# membership operator\n",
    "fruits = [\"apple\", \"graps\", \"orange\"]\n",
    "print(fruits)"
   ]
  },
  {
   "cell_type": "code",
   "execution_count": 15,
   "id": "e34b9f9c",
   "metadata": {},
   "outputs": [
    {
     "name": "stdout",
     "output_type": "stream",
     "text": [
      "False\n"
     ]
    }
   ],
   "source": [
    "print(\"banana\" in fruits) # check if \"banana\" is in the list"
   ]
  },
  {
   "cell_type": "code",
   "execution_count": 16,
   "id": "897cbd58",
   "metadata": {},
   "outputs": [
    {
     "name": "stdout",
     "output_type": "stream",
     "text": [
      "False\n"
     ]
    }
   ],
   "source": [
    "print(\"orange\" not in fruits) # check if \"orange\" is not in the list"
   ]
  },
  {
   "cell_type": "code",
   "execution_count": 22,
   "id": "953da4f5",
   "metadata": {},
   "outputs": [
    {
     "name": "stdout",
     "output_type": "stream",
     "text": [
      "Assalam o Alaikum Qasimo, Welcome to the python programming class!\n"
     ]
    }
   ],
   "source": [
    "# input and output (I/O) operations\n",
    "student_name = input(\"Enter your good name: \")\n",
    "print(f\"Assalam o Alaikum {student_name}, Welcome to the python programming class!\")"
   ]
  },
  {
   "cell_type": "code",
   "execution_count": 25,
   "id": "483da19b",
   "metadata": {},
   "outputs": [
    {
     "name": "stdout",
     "output_type": "stream",
     "text": [
      "your details are: {'name': 'Qasimo', 'Roll_No': '06', 'Gender': 'Male'} and your details are given below\n"
     ]
    }
   ],
   "source": [
    "student_details = eval(input(\"Please enter your details in the form of a dictionary:\"))\n",
    "print(f\"your details are: {student_details} and your details are given below\")"
   ]
  },
  {
   "cell_type": "code",
   "execution_count": 26,
   "id": "1ad983d5",
   "metadata": {},
   "outputs": [
    {
     "data": {
      "text/plain": [
       "dict"
      ]
     },
     "execution_count": 26,
     "metadata": {},
     "output_type": "execute_result"
    }
   ],
   "source": [
    "type(student_details)"
   ]
  },
  {
   "cell_type": "code",
   "execution_count": 29,
   "id": "77b3793c",
   "metadata": {},
   "outputs": [
    {
     "name": "stdout",
     "output_type": "stream",
     "text": [
      "your fee is 450$\n"
     ]
    }
   ],
   "source": [
    "student_fee = int(input(\"Please enter your fee: \"))\n",
    "print(f\"your fee is {student_fee}$\")"
   ]
  },
  {
   "cell_type": "code",
   "execution_count": 31,
   "id": "dea89827",
   "metadata": {},
   "outputs": [
    {
     "name": "stdout",
     "output_type": "stream",
     "text": [
      "Your discount fee is 400 $\n"
     ]
    }
   ],
   "source": [
    "print(\"Your discount fee is\",student_fee - 50,\"$\") # Example of arithmetic operation\n"
   ]
  },
  {
   "cell_type": "code",
   "execution_count": 33,
   "id": "3e85d510",
   "metadata": {},
   "outputs": [
    {
     "name": "stdout",
     "output_type": "stream",
     "text": [
      "Welcome to the Python programming class\n"
     ]
    }
   ],
   "source": [
    "# output formatting\n",
    "a = \"Welcome to the Python programming class\"\n",
    "print(a)"
   ]
  },
  {
   "cell_type": "code",
   "execution_count": 34,
   "id": "ae00a05a",
   "metadata": {},
   "outputs": [
    {
     "name": "stdout",
     "output_type": "stream",
     "text": [
      "Welcome to the Python programming class and AI Course\n"
     ]
    }
   ],
   "source": [
    "# output forrmatting \n",
    "a = \"Welcome to the Python programming class\"\n",
    "print(a, \"and AI Course\")"
   ]
  },
  {
   "cell_type": "code",
   "execution_count": 35,
   "id": "4ba01335",
   "metadata": {},
   "outputs": [
    {
     "name": "stdout",
     "output_type": "stream",
     "text": [
      "Hello, my name is Qasimo and I am  20 years old.\n"
     ]
    }
   ],
   "source": [
    "name = \"Qasimo\"\n",
    "age = 20\n",
    "\n",
    "print(\"Hello, my name is\", name, \"and I am \", age, \"years old.\")"
   ]
  },
  {
   "cell_type": "code",
   "execution_count": 36,
   "id": "7e341246",
   "metadata": {},
   "outputs": [
    {
     "name": "stdout",
     "output_type": "stream",
     "text": [
      "Hello, my name is Qasimo and I am 20 years old.\n"
     ]
    }
   ],
   "source": [
    "print(f\"Hello, my name is {name} and I am {age} years old.\") # f-string formatting"
   ]
  },
  {
   "cell_type": "code",
   "execution_count": 37,
   "id": "2c42b0bc",
   "metadata": {},
   "outputs": [
    {
     "name": "stdout",
     "output_type": "stream",
     "text": [
      "Hello, my name is Qasimo and I am 20 years old.\n"
     ]
    }
   ],
   "source": [
    "print(\"Hello, my name is {} and I am {} years old.\".format(name, age)) # format method for string formatting"
   ]
  },
  {
   "cell_type": "code",
   "execution_count": 39,
   "id": "54fa55de",
   "metadata": {},
   "outputs": [
    {
     "name": "stdout",
     "output_type": "stream",
     "text": [
      "The number is positive.\n",
      "Greater than Zero\n"
     ]
    }
   ],
   "source": [
    "# if\n",
    "number = 10 \n",
    "if number > 0:\n",
    "    print(\"The number is positive.\")\n",
    "    print(\"Greater than Zero\")\n"
   ]
  },
  {
   "cell_type": "code",
   "execution_count": null,
   "id": "0266ff8e",
   "metadata": {},
   "outputs": [
    {
     "name": "stdout",
     "output_type": "stream",
     "text": [
      "The number is positive.\n",
      "Greater than Zero\n"
     ]
    }
   ],
   "source": [
    "# if-else \n",
    "number = int(input(\"Enter a number: \"))\n",
    "\n",
    "if number > 0:\n",
    "    print(\"The number is positive.\")\n",
    "    print(\"Greater than Zero\")\n",
    "else:\n",
    "    print(\"The number is negative .\")\n",
    "    print(\"The number is less than Zero\")\n"
   ]
  },
  {
   "cell_type": "code",
   "execution_count": 42,
   "id": "cee4dfeb",
   "metadata": {},
   "outputs": [
    {
     "name": "stdout",
     "output_type": "stream",
     "text": [
      "The numner is zero.\n",
      "Equal to Zero\n"
     ]
    }
   ],
   "source": [
    "# if-elif-else\n",
    "number = int(input(\"Enter a number: \"))\n",
    "\n",
    "if number > 0:\n",
    "    print(\"The number is positive.\")\n",
    "    print(\"Grater than Zero\")\n",
    "\n",
    "elif number == 0:\n",
    "    print(\"The numner is zero.\")\n",
    "    print(\"Equal to Zero\")\n",
    "\n",
    "else:\n",
    "    print(\"The number is negative.\")\n",
    "    print(\"The number is less than Zero\")\n",
    "          "
   ]
  },
  {
   "cell_type": "code",
   "execution_count": null,
   "id": "2a8817ca",
   "metadata": {},
   "outputs": [],
   "source": []
  }
 ],
 "metadata": {
  "kernelspec": {
   "display_name": "ai_env",
   "language": "python",
   "name": "python3"
  },
  "language_info": {
   "codemirror_mode": {
    "name": "ipython",
    "version": 3
   },
   "file_extension": ".py",
   "mimetype": "text/x-python",
   "name": "python",
   "nbconvert_exporter": "python",
   "pygments_lexer": "ipython3",
   "version": "3.9.23"
  }
 },
 "nbformat": 4,
 "nbformat_minor": 5
}
